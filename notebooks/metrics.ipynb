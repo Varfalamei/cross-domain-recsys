{
 "cells": [
  {
   "cell_type": "code",
   "execution_count": 32,
   "id": "1b78f1fc-b179-45a9-b02d-5e3628986441",
   "metadata": {},
   "outputs": [],
   "source": [
    "import pandas as pd\n",
    "\n",
    "\n",
    "def string_to_set(string):\n",
    "    res = set(string.replace('{', '').replace('}', '').replace('\\\\', '').replace(\"'\", '').replace('\"', '').strip().split(','))\n",
    "    clear_res = set()\n",
    "    for elem in res:\n",
    "        clear_res.add(elem.strip())\n",
    "    return clear_res\n",
    "\n",
    "\n",
    "class BooksToFilmsMetrics:\n",
    "    \n",
    "    def __init__(self, books_path: str, films_path: str) -> None:\n",
    "        self._books = pd.read_csv(books_path, index_col=0)\n",
    "        self._books['lemmas_inter'] = self._books['lemmas_inter'].apply(lambda x: string_to_set(x))\n",
    "                                                                        \n",
    "        self._films = pd.read_csv(films_path, index_col=0)\n",
    "        self._films['lemmas_inter'] = self._films['lemmas_inter'].apply(lambda x: string_to_set(x))\n",
    "\n",
    "    def accuracy(self, book_id: int, reccomended_films_ids: list) -> list:\n",
    "        item = (self._books.at[book_id, 'lemmas_inter'])\n",
    "        recs = []\n",
    "        for _id in reccomended_films_ids:\n",
    "            geners = self._films[self._films['id'] == _id]['lemmas_inter'].item()\n",
    "            metric = len(geners.intersection(item)) / len(item)\n",
    "            recs.append(metric)\n",
    "        \n",
    "        return recs\n",
    "    \n",
    "    def weighted_accuracy(self, book_id: int, reccomended_films_ids: list, book_weight: float = 1, film_weight: float = 2.5) -> list:\n",
    "        item = (self._books.at[book_id, 'lemmas_inter'])\n",
    "        recs = []\n",
    "        for _id in reccomended_films_ids:\n",
    "            geners = self._films[self._films['id'] == _id]['lemmas_inter'].item()\n",
    "            metric = len(geners.intersection(item)) / (book_weight*len(item) + film_weight*len(geners))\n",
    "            recs.append(metric)\n",
    "        \n",
    "        return recs\n",
    "    \n",
    "    def absolute_accuracy(self, book_id: int, reccomended_films_ids: list, l1: float = 1.0) -> list:\n",
    "        item = (self._books.at[book_id, 'lemmas_inter'])\n",
    "        recs = []\n",
    "        for _id in reccomended_films_ids:\n",
    "            geners = self._films[self._films['id'] == _id]['lemmas_inter'].item()\n",
    "            inter_len = len(geners.intersection(item))\n",
    "            item_len = len(item)\n",
    "            metric = (inter_len - l1*item_len)/ (item_len)\n",
    "            recs.append(metric)\n",
    "        \n",
    "        return recs\n",
    "    \n",
    "    def cross_accuracy(self, book_id: int, reccomended_films_ids: list) -> float:\n",
    "        item = (self._books.at[book_id, 'lemmas_inter'])\n",
    "        lemmas = {}\n",
    "        \n",
    "        recs = []\n",
    "\n",
    "        for i, id_i in enumerate(reccomended_films_ids):\n",
    "            recs.append([])\n",
    "            genres_i = self._films[self._films['id'] == id_i]['lemmas_inter'].item()\n",
    "            for j, id_j in enumerate(reccomended_films_ids):\n",
    "                genres_j = self._films[self._films['id'] == id_j]['lemmas_inter'].item()\n",
    "                recs[i].append(len(genres_i.intersection(genres_j))/ len(genres_i))\n",
    "        \n",
    "        acc = 1\n",
    "        for i in range(len(recs)):\n",
    "            for j in range(len(recs[0])):\n",
    "                if j < i:\n",
    "                    acc *= recs[i][j]\n",
    "        return acc"
   ]
  },
  {
   "cell_type": "code",
   "execution_count": 33,
   "id": "f9289bff-1e1b-4b8e-b114-fc7938cd134a",
   "metadata": {},
   "outputs": [],
   "source": [
    "metrics = BooksToFilmsMetrics(books_path='books_with_lemmas.csv', films_path='films_with_lemmas.csv')"
   ]
  },
  {
   "cell_type": "code",
   "execution_count": 34,
   "id": "2e906d41-c9ef-4db7-b989-62d68b4c1754",
   "metadata": {},
   "outputs": [
    {
     "data": {
      "text/plain": [
       "0.5289256198347108"
      ]
     },
     "execution_count": 34,
     "metadata": {},
     "output_type": "execute_result"
    }
   ],
   "source": [
    "metrics.cross_accuracy(7847, [12168, 4190, 21165])"
   ]
  },
  {
   "cell_type": "code",
   "execution_count": 35,
   "id": "c14e2573-88e9-474b-9d6e-00f0283089a7",
   "metadata": {},
   "outputs": [
    {
     "data": {
      "text/plain": [
       "[0.7777777777777778, 0.7777777777777778, 0.8888888888888888]"
      ]
     },
     "execution_count": 35,
     "metadata": {},
     "output_type": "execute_result"
    }
   ],
   "source": [
    "metrics.accuracy(7847, [12168, 4190, 21165])"
   ]
  },
  {
   "cell_type": "code",
   "execution_count": 36,
   "id": "7daaf725-365c-4055-a7a0-81efb28099c9",
   "metadata": {},
   "outputs": [
    {
     "data": {
      "text/plain": [
       "[0.2413793103448276, 0.2413793103448276, 0.2191780821917808]"
      ]
     },
     "execution_count": 36,
     "metadata": {},
     "output_type": "execute_result"
    }
   ],
   "source": [
    "metrics.weighted_accuracy(7847, [12168, 4190, 21165])"
   ]
  },
  {
   "cell_type": "code",
   "execution_count": 37,
   "id": "53b10f9f-73bf-4a78-be7c-ea578d8a41c8",
   "metadata": {},
   "outputs": [
    {
     "data": {
      "text/plain": [
       "[-0.2222222222222222, -0.2222222222222222, -0.1111111111111111]"
      ]
     },
     "execution_count": 37,
     "metadata": {},
     "output_type": "execute_result"
    }
   ],
   "source": [
    "metrics.absolute_accuracy(7847, [12168, 4190, 21165])"
   ]
  },
  {
   "cell_type": "code",
   "execution_count": null,
   "id": "f8537a88-06ac-45ef-af46-bfcbff500c29",
   "metadata": {},
   "outputs": [],
   "source": []
  }
 ],
 "metadata": {
  "kernelspec": {
   "display_name": "Python 3 (ipykernel)",
   "language": "python",
   "name": "python3"
  },
  "language_info": {
   "codemirror_mode": {
    "name": "ipython",
    "version": 3
   },
   "file_extension": ".py",
   "mimetype": "text/x-python",
   "name": "python",
   "nbconvert_exporter": "python",
   "pygments_lexer": "ipython3",
   "version": "3.8.0"
  }
 },
 "nbformat": 4,
 "nbformat_minor": 5
}
