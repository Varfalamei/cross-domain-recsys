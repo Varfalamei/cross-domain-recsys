{
  "nbformat": 4,
  "nbformat_minor": 0,
  "metadata": {
    "colab": {
      "provenance": [],
      "collapsed_sections": [],
      "authorship_tag": "ABX9TyPlH6EBWWhA2T4WmfaE6r1w",
      "include_colab_link": true
    },
    "kernelspec": {
      "name": "python3",
      "display_name": "Python 3"
    },
    "language_info": {
      "name": "python"
    }
  },
  "cells": [
    {
      "cell_type": "markdown",
      "metadata": {
        "id": "view-in-github",
        "colab_type": "text"
      },
      "source": [
        "<a href=\"https://colab.research.google.com/github/Varfalamei/cross-domain-recsys/blob/lab3/notebooks/matching_films_and_books.ipynb\" target=\"_parent\"><img src=\"https://colab.research.google.com/assets/colab-badge.svg\" alt=\"Open In Colab\"/></a>"
      ]
    },
    {
      "cell_type": "code",
      "source": [
        "!gdown --id 1NM4uSjSg0e2LPBT_aC0v1XaRRh932jxJ\n",
        "!gdown --id 19IDNSFnAh-JiVx05BSJJRmU-eTdzlG1T\n",
        "!gdown --id 1iN16x8HRjjaNrqMCq-WQLZw6LQJuVdB2"
      ],
      "metadata": {
        "colab": {
          "base_uri": "https://localhost:8080/"
        },
        "id": "rAeBqkaUnJ5h",
        "outputId": "e7ac13fd-dd3d-45b4-972d-c7631f1762ca"
      },
      "execution_count": 2,
      "outputs": [
        {
          "output_type": "stream",
          "name": "stdout",
          "text": [
            "/usr/local/lib/python3.7/dist-packages/gdown/cli.py:131: FutureWarning: Option `--id` was deprecated in version 4.3.1 and will be removed in 5.0. You don't need to pass it anymore to use a file ID.\n",
            "  category=FutureWarning,\n",
            "Downloading...\n",
            "From: https://drive.google.com/uc?id=1NM4uSjSg0e2LPBT_aC0v1XaRRh932jxJ\n",
            "To: /content/books.csv\n",
            "100% 69.0M/69.0M [00:01<00:00, 51.5MB/s]\n",
            "/usr/local/lib/python3.7/dist-packages/gdown/cli.py:131: FutureWarning: Option `--id` was deprecated in version 4.3.1 and will be removed in 5.0. You don't need to pass it anymore to use a file ID.\n",
            "  category=FutureWarning,\n",
            "Downloading...\n",
            "From: https://drive.google.com/uc?id=19IDNSFnAh-JiVx05BSJJRmU-eTdzlG1T\n",
            "To: /content/films.csv\n",
            "100% 28.6M/28.6M [00:00<00:00, 183MB/s]\n",
            "/usr/local/lib/python3.7/dist-packages/gdown/cli.py:131: FutureWarning: Option `--id` was deprecated in version 4.3.1 and will be removed in 5.0. You don't need to pass it anymore to use a file ID.\n",
            "  category=FutureWarning,\n",
            "Downloading...\n",
            "From: https://drive.google.com/uc?id=1iN16x8HRjjaNrqMCq-WQLZw6LQJuVdB2\n",
            "To: /content/book_film_mapped.pkl\n",
            "100% 317k/317k [00:00<00:00, 138MB/s]\n"
          ]
        }
      ]
    },
    {
      "cell_type": "code",
      "execution_count": 3,
      "metadata": {
        "id": "ZO5dQZOvmWtm"
      },
      "outputs": [],
      "source": [
        "import pickle\n",
        "import pandas as pd"
      ]
    },
    {
      "cell_type": "code",
      "source": [
        "books = pd.read_csv('books.csv')\n",
        "films = pd.read_csv('films.csv')\n",
        "\n",
        "books = books[~books.isna().any(axis=1)].reset_index(drop=True)\n",
        "films = films[~films.isna().any(axis=1)].reset_index(drop=True)"
      ],
      "metadata": {
        "id": "U8JhtS9JnRy_"
      },
      "execution_count": 4,
      "outputs": []
    },
    {
      "cell_type": "code",
      "source": [
        "books_to_save = books.groupby(['title']).agg({'popularity': 'max'}).reset_index()\n",
        "# films_to_save = films.groupby(['title']).agg({'popularity': 'max'}).reset_index()\n",
        "\n",
        "books = books_to_save.merge(books, on=['title', 'popularity'], how='inner')\n",
        "# films = films_to_save.merge(films, on=['title', 'popularity'], how='inner')\n",
        "\n",
        "books = books.drop_duplicates(['title', 'popularity']).reset_index(drop=True)\n",
        "# films = films.drop_duplicates(['title', 'popularity']).reset_index(drop=True)"
      ],
      "metadata": {
        "id": "FeaJ-V3qnUyY"
      },
      "execution_count": 5,
      "outputs": []
    },
    {
      "cell_type": "code",
      "source": [
        "books_find = books[['title', 'id', 'authors']].rename(columns={\"authors\": \"authors_book\", \"title\": 'title_book'}).copy()\n",
        "films_find = films[['title', 'id', 'year']].rename(columns={\"year\": \"year_film\", \"title\": 'title_film'}).copy()\n",
        "\n",
        "books_find.title_book = books_find.title_book.str.strip().replace({\"'\": \"\", '\"': \"\", \"#\": ''}, regex=True).str.lower()\n",
        "films_find.title_film = films_find.title_film.str.strip().replace({\"'\": \"\", '\"': \"\", \"#\": ''}, regex=True).str.lower()\n",
        "\n",
        "matching = books_find.merge(films_find, left_on='title_book', right_on='title_film', how='inner', suffixes=('_book', '_film'))\n",
        "matching"
      ],
      "metadata": {
        "colab": {
          "base_uri": "https://localhost:8080/",
          "height": 424
        },
        "id": "YTp4n2sTsDKD",
        "outputId": "8ff0f194-a99e-484d-f898-b946f64113ea"
      },
      "execution_count": 6,
      "outputs": [
        {
          "output_type": "execute_result",
          "data": {
            "text/plain": [
              "                title_book  id_book       authors_book            title_film  \\\n",
              "0                     1984     7123      Джордж Оруэлл                  1984   \n",
              "1                     1984     7123      Джордж Оруэлл                  1984   \n",
              "2     20 000 лье под водой    51824          Жюль Верн  20 000 лье под водой   \n",
              "3                5-я волна     1301           Рик Янси             5-я волна   \n",
              "4                 9 жизней    33588      Олег Трегубов              9 жизней   \n",
              "...                    ...      ...                ...                   ...   \n",
              "2793     ярмарка тщеславия    25758    Уильям Теккерей     ярмарка тщеславия   \n",
              "2794        ярослав мудрый    55432  Наталья Павлищева        ярослав мудрый   \n",
              "2795                ярость    51412       Юрий Никитин                ярость   \n",
              "2796                ярость    51412       Юрий Никитин                ярость   \n",
              "2797          ящик пандоры    49058      Бернар Вербер          ящик пандоры   \n",
              "\n",
              "      id_film  year_film  \n",
              "0        1225     1956.0  \n",
              "1       17791     1956.0  \n",
              "2        4427     1954.0  \n",
              "3       15808     2016.0  \n",
              "4        4434     2018.0  \n",
              "...       ...        ...  \n",
              "2793    15452     2018.0  \n",
              "2794    22571     1981.0  \n",
              "2795    22825     2008.0  \n",
              "2796    23292     2021.0  \n",
              "2797    12085     2011.0  \n",
              "\n",
              "[2798 rows x 6 columns]"
            ],
            "text/html": [
              "\n",
              "  <div id=\"df-4be38774-79b6-4575-975b-5bbae8c73d01\">\n",
              "    <div class=\"colab-df-container\">\n",
              "      <div>\n",
              "<style scoped>\n",
              "    .dataframe tbody tr th:only-of-type {\n",
              "        vertical-align: middle;\n",
              "    }\n",
              "\n",
              "    .dataframe tbody tr th {\n",
              "        vertical-align: top;\n",
              "    }\n",
              "\n",
              "    .dataframe thead th {\n",
              "        text-align: right;\n",
              "    }\n",
              "</style>\n",
              "<table border=\"1\" class=\"dataframe\">\n",
              "  <thead>\n",
              "    <tr style=\"text-align: right;\">\n",
              "      <th></th>\n",
              "      <th>title_book</th>\n",
              "      <th>id_book</th>\n",
              "      <th>authors_book</th>\n",
              "      <th>title_film</th>\n",
              "      <th>id_film</th>\n",
              "      <th>year_film</th>\n",
              "    </tr>\n",
              "  </thead>\n",
              "  <tbody>\n",
              "    <tr>\n",
              "      <th>0</th>\n",
              "      <td>1984</td>\n",
              "      <td>7123</td>\n",
              "      <td>Джордж Оруэлл</td>\n",
              "      <td>1984</td>\n",
              "      <td>1225</td>\n",
              "      <td>1956.0</td>\n",
              "    </tr>\n",
              "    <tr>\n",
              "      <th>1</th>\n",
              "      <td>1984</td>\n",
              "      <td>7123</td>\n",
              "      <td>Джордж Оруэлл</td>\n",
              "      <td>1984</td>\n",
              "      <td>17791</td>\n",
              "      <td>1956.0</td>\n",
              "    </tr>\n",
              "    <tr>\n",
              "      <th>2</th>\n",
              "      <td>20 000 лье под водой</td>\n",
              "      <td>51824</td>\n",
              "      <td>Жюль Верн</td>\n",
              "      <td>20 000 лье под водой</td>\n",
              "      <td>4427</td>\n",
              "      <td>1954.0</td>\n",
              "    </tr>\n",
              "    <tr>\n",
              "      <th>3</th>\n",
              "      <td>5-я волна</td>\n",
              "      <td>1301</td>\n",
              "      <td>Рик Янси</td>\n",
              "      <td>5-я волна</td>\n",
              "      <td>15808</td>\n",
              "      <td>2016.0</td>\n",
              "    </tr>\n",
              "    <tr>\n",
              "      <th>4</th>\n",
              "      <td>9 жизней</td>\n",
              "      <td>33588</td>\n",
              "      <td>Олег Трегубов</td>\n",
              "      <td>9 жизней</td>\n",
              "      <td>4434</td>\n",
              "      <td>2018.0</td>\n",
              "    </tr>\n",
              "    <tr>\n",
              "      <th>...</th>\n",
              "      <td>...</td>\n",
              "      <td>...</td>\n",
              "      <td>...</td>\n",
              "      <td>...</td>\n",
              "      <td>...</td>\n",
              "      <td>...</td>\n",
              "    </tr>\n",
              "    <tr>\n",
              "      <th>2793</th>\n",
              "      <td>ярмарка тщеславия</td>\n",
              "      <td>25758</td>\n",
              "      <td>Уильям Теккерей</td>\n",
              "      <td>ярмарка тщеславия</td>\n",
              "      <td>15452</td>\n",
              "      <td>2018.0</td>\n",
              "    </tr>\n",
              "    <tr>\n",
              "      <th>2794</th>\n",
              "      <td>ярослав мудрый</td>\n",
              "      <td>55432</td>\n",
              "      <td>Наталья Павлищева</td>\n",
              "      <td>ярослав мудрый</td>\n",
              "      <td>22571</td>\n",
              "      <td>1981.0</td>\n",
              "    </tr>\n",
              "    <tr>\n",
              "      <th>2795</th>\n",
              "      <td>ярость</td>\n",
              "      <td>51412</td>\n",
              "      <td>Юрий Никитин</td>\n",
              "      <td>ярость</td>\n",
              "      <td>22825</td>\n",
              "      <td>2008.0</td>\n",
              "    </tr>\n",
              "    <tr>\n",
              "      <th>2796</th>\n",
              "      <td>ярость</td>\n",
              "      <td>51412</td>\n",
              "      <td>Юрий Никитин</td>\n",
              "      <td>ярость</td>\n",
              "      <td>23292</td>\n",
              "      <td>2021.0</td>\n",
              "    </tr>\n",
              "    <tr>\n",
              "      <th>2797</th>\n",
              "      <td>ящик пандоры</td>\n",
              "      <td>49058</td>\n",
              "      <td>Бернар Вербер</td>\n",
              "      <td>ящик пандоры</td>\n",
              "      <td>12085</td>\n",
              "      <td>2011.0</td>\n",
              "    </tr>\n",
              "  </tbody>\n",
              "</table>\n",
              "<p>2798 rows × 6 columns</p>\n",
              "</div>\n",
              "      <button class=\"colab-df-convert\" onclick=\"convertToInteractive('df-4be38774-79b6-4575-975b-5bbae8c73d01')\"\n",
              "              title=\"Convert this dataframe to an interactive table.\"\n",
              "              style=\"display:none;\">\n",
              "        \n",
              "  <svg xmlns=\"http://www.w3.org/2000/svg\" height=\"24px\"viewBox=\"0 0 24 24\"\n",
              "       width=\"24px\">\n",
              "    <path d=\"M0 0h24v24H0V0z\" fill=\"none\"/>\n",
              "    <path d=\"M18.56 5.44l.94 2.06.94-2.06 2.06-.94-2.06-.94-.94-2.06-.94 2.06-2.06.94zm-11 1L8.5 8.5l.94-2.06 2.06-.94-2.06-.94L8.5 2.5l-.94 2.06-2.06.94zm10 10l.94 2.06.94-2.06 2.06-.94-2.06-.94-.94-2.06-.94 2.06-2.06.94z\"/><path d=\"M17.41 7.96l-1.37-1.37c-.4-.4-.92-.59-1.43-.59-.52 0-1.04.2-1.43.59L10.3 9.45l-7.72 7.72c-.78.78-.78 2.05 0 2.83L4 21.41c.39.39.9.59 1.41.59.51 0 1.02-.2 1.41-.59l7.78-7.78 2.81-2.81c.8-.78.8-2.07 0-2.86zM5.41 20L4 18.59l7.72-7.72 1.47 1.35L5.41 20z\"/>\n",
              "  </svg>\n",
              "      </button>\n",
              "      \n",
              "  <style>\n",
              "    .colab-df-container {\n",
              "      display:flex;\n",
              "      flex-wrap:wrap;\n",
              "      gap: 12px;\n",
              "    }\n",
              "\n",
              "    .colab-df-convert {\n",
              "      background-color: #E8F0FE;\n",
              "      border: none;\n",
              "      border-radius: 50%;\n",
              "      cursor: pointer;\n",
              "      display: none;\n",
              "      fill: #1967D2;\n",
              "      height: 32px;\n",
              "      padding: 0 0 0 0;\n",
              "      width: 32px;\n",
              "    }\n",
              "\n",
              "    .colab-df-convert:hover {\n",
              "      background-color: #E2EBFA;\n",
              "      box-shadow: 0px 1px 2px rgba(60, 64, 67, 0.3), 0px 1px 3px 1px rgba(60, 64, 67, 0.15);\n",
              "      fill: #174EA6;\n",
              "    }\n",
              "\n",
              "    [theme=dark] .colab-df-convert {\n",
              "      background-color: #3B4455;\n",
              "      fill: #D2E3FC;\n",
              "    }\n",
              "\n",
              "    [theme=dark] .colab-df-convert:hover {\n",
              "      background-color: #434B5C;\n",
              "      box-shadow: 0px 1px 3px 1px rgba(0, 0, 0, 0.15);\n",
              "      filter: drop-shadow(0px 1px 2px rgba(0, 0, 0, 0.3));\n",
              "      fill: #FFFFFF;\n",
              "    }\n",
              "  </style>\n",
              "\n",
              "      <script>\n",
              "        const buttonEl =\n",
              "          document.querySelector('#df-4be38774-79b6-4575-975b-5bbae8c73d01 button.colab-df-convert');\n",
              "        buttonEl.style.display =\n",
              "          google.colab.kernel.accessAllowed ? 'block' : 'none';\n",
              "\n",
              "        async function convertToInteractive(key) {\n",
              "          const element = document.querySelector('#df-4be38774-79b6-4575-975b-5bbae8c73d01');\n",
              "          const dataTable =\n",
              "            await google.colab.kernel.invokeFunction('convertToInteractive',\n",
              "                                                     [key], {});\n",
              "          if (!dataTable) return;\n",
              "\n",
              "          const docLinkHtml = 'Like what you see? Visit the ' +\n",
              "            '<a target=\"_blank\" href=https://colab.research.google.com/notebooks/data_table.ipynb>data table notebook</a>'\n",
              "            + ' to learn more about interactive tables.';\n",
              "          element.innerHTML = '';\n",
              "          dataTable['output_type'] = 'display_data';\n",
              "          await google.colab.output.renderOutput(dataTable, element);\n",
              "          const docLink = document.createElement('div');\n",
              "          docLink.innerHTML = docLinkHtml;\n",
              "          element.appendChild(docLink);\n",
              "        }\n",
              "      </script>\n",
              "    </div>\n",
              "  </div>\n",
              "  "
            ]
          },
          "metadata": {},
          "execution_count": 6
        }
      ]
    },
    {
      "cell_type": "code",
      "source": [],
      "metadata": {
        "id": "25gEZEMZlg1J"
      },
      "execution_count": 6,
      "outputs": []
    },
    {
      "cell_type": "code",
      "source": [],
      "metadata": {
        "id": "65MB2Pvzlg3i"
      },
      "execution_count": 6,
      "outputs": []
    },
    {
      "cell_type": "code",
      "source": [],
      "metadata": {
        "id": "mVnqcpFplg5k"
      },
      "execution_count": 6,
      "outputs": []
    },
    {
      "cell_type": "code",
      "source": [
        "with open(\"book_film_mapped.pkl\", 'rb') as f:\n",
        "  book_film_mapped = pickle.load(f)\n",
        "\n",
        "book_film_mapped = book_film_mapped.rename(columns={'book_title': 'title_book', 'film_title':'title_film'})\n",
        "\n",
        "book_film_mapped.title_book = book_film_mapped.title_book.str.strip().replace({\"'\": \"\", '\"': \"\", \"#\": ''}, regex=True).str.lower()\n",
        "book_film_mapped.title_film = book_film_mapped.title_film.str.strip().replace({\"'\": \"\", '\"': \"\", \"#\": ''}, regex=True).str.lower()\n",
        "\n",
        "book_film_mapped = book_film_mapped[book_film_mapped.title_book != book_film_mapped.title_film]\n",
        "\n",
        "book_film_mapped = book_film_mapped[['title_book', 'book_author', 'title_film', 'film_year']].drop_duplicates()\n",
        "\n",
        "books_for_second_check = books_find.rename(columns={'title': 'title_book', 'authors_book':'book_author', 'id': 'id_book'})\n",
        "films_for_second_check = films_find.rename(columns={'title': 'title_film', 'year_film':'film_year', 'id': 'id_film'})\n",
        "\n",
        "check = book_film_mapped.merge(books_for_second_check, on=['title_book', 'book_author'])\n",
        "check = check.merge(films_for_second_check, on=['title_film', 'film_year'])\n",
        "check = check[['id_book', 'id_film']]\n",
        "\n",
        "additional_adapt = check.merge(books[['title', 'id', 'authors']], left_on='id_book', right_on='id')\n",
        "additional_adapt = additional_adapt.drop(['id'], axis=1)\n",
        "\n",
        "additional_adapt = additional_adapt.merge(films[['title', 'id', 'year']], left_on='id_film', right_on='id')\n",
        "additional_adapt = additional_adapt.drop(['id'], axis=1)\n",
        "\n",
        "additional_adapt = additional_adapt.rename({'title_x': 'title_book', 'authors': 'authors_book', 'title_y': 'title_film', 'year': 'year_film'}, axis=1)\n"
      ],
      "metadata": {
        "id": "bdBUybohlNZ9"
      },
      "execution_count": 7,
      "outputs": []
    },
    {
      "cell_type": "code",
      "source": [
        "matching = pd.concat([matching, additional_adapt], axis=0)\n",
        "matching.shape"
      ],
      "metadata": {
        "colab": {
          "base_uri": "https://localhost:8080/"
        },
        "id": "pw_3cxLKR-b6",
        "outputId": "6490ecf7-82e6-47e6-b178-474bdfa897d6"
      },
      "execution_count": 8,
      "outputs": [
        {
          "output_type": "execute_result",
          "data": {
            "text/plain": [
              "(3505, 6)"
            ]
          },
          "metadata": {},
          "execution_count": 8
        }
      ]
    },
    {
      "cell_type": "markdown",
      "source": [],
      "metadata": {
        "id": "PP5omjqmSMaZ"
      }
    },
    {
      "cell_type": "code",
      "source": [
        "matching.drop_duplicates()"
      ],
      "metadata": {
        "colab": {
          "base_uri": "https://localhost:8080/",
          "height": 424
        },
        "id": "DOZVz5QESJLp",
        "outputId": "4e474986-f50b-40cf-e711-5ad5daf0fcfe"
      },
      "execution_count": 9,
      "outputs": [
        {
          "output_type": "execute_result",
          "data": {
            "text/plain": [
              "                              title_book  id_book     authors_book  \\\n",
              "0                                   1984     7123    Джордж Оруэлл   \n",
              "1                                   1984     7123    Джордж Оруэлл   \n",
              "2                   20 000 лье под водой    51824        Жюль Верн   \n",
              "3                              5-я волна     1301         Рик Янси   \n",
              "4                               9 жизней    33588    Олег Трегубов   \n",
              "..                                   ...      ...              ...   \n",
              "702                         Мэри Поппинс    34878   Памела Трэверс   \n",
              "703      Мэри Поппинс и дом по соседству     7931   Памела Трэверс   \n",
              "704  Отцы и дети. Ася. Повести. Рассказы    53434    Иван Тургенев   \n",
              "705                            Питер Пэн     4059     Джеймс Барри   \n",
              "706                     Прости за любовь    52852  Федерико Моччиа   \n",
              "\n",
              "                             title_film  id_film  year_film  \n",
              "0                                  1984     1225     1956.0  \n",
              "1                                  1984    17791     1956.0  \n",
              "2                  20 000 лье под водой     4427     1954.0  \n",
              "3                             5-я волна    15808     2016.0  \n",
              "4                              9 жизней     4434     2018.0  \n",
              "..                                  ...      ...        ...  \n",
              "702           Мэри Поппинс, до свидания    15212     1983.0  \n",
              "703           Мэри Поппинс, до свидания    15212     1983.0  \n",
              "704                         Отцы и дети    20356     1959.0  \n",
              "705  Питер Пэн: Возвращение в Нетландию    17647     2002.0  \n",
              "706                              Любовь     7528     2015.0  \n",
              "\n",
              "[3505 rows x 6 columns]"
            ],
            "text/html": [
              "\n",
              "  <div id=\"df-8103b057-ffa0-46f0-a64e-df90daa90a25\">\n",
              "    <div class=\"colab-df-container\">\n",
              "      <div>\n",
              "<style scoped>\n",
              "    .dataframe tbody tr th:only-of-type {\n",
              "        vertical-align: middle;\n",
              "    }\n",
              "\n",
              "    .dataframe tbody tr th {\n",
              "        vertical-align: top;\n",
              "    }\n",
              "\n",
              "    .dataframe thead th {\n",
              "        text-align: right;\n",
              "    }\n",
              "</style>\n",
              "<table border=\"1\" class=\"dataframe\">\n",
              "  <thead>\n",
              "    <tr style=\"text-align: right;\">\n",
              "      <th></th>\n",
              "      <th>title_book</th>\n",
              "      <th>id_book</th>\n",
              "      <th>authors_book</th>\n",
              "      <th>title_film</th>\n",
              "      <th>id_film</th>\n",
              "      <th>year_film</th>\n",
              "    </tr>\n",
              "  </thead>\n",
              "  <tbody>\n",
              "    <tr>\n",
              "      <th>0</th>\n",
              "      <td>1984</td>\n",
              "      <td>7123</td>\n",
              "      <td>Джордж Оруэлл</td>\n",
              "      <td>1984</td>\n",
              "      <td>1225</td>\n",
              "      <td>1956.0</td>\n",
              "    </tr>\n",
              "    <tr>\n",
              "      <th>1</th>\n",
              "      <td>1984</td>\n",
              "      <td>7123</td>\n",
              "      <td>Джордж Оруэлл</td>\n",
              "      <td>1984</td>\n",
              "      <td>17791</td>\n",
              "      <td>1956.0</td>\n",
              "    </tr>\n",
              "    <tr>\n",
              "      <th>2</th>\n",
              "      <td>20 000 лье под водой</td>\n",
              "      <td>51824</td>\n",
              "      <td>Жюль Верн</td>\n",
              "      <td>20 000 лье под водой</td>\n",
              "      <td>4427</td>\n",
              "      <td>1954.0</td>\n",
              "    </tr>\n",
              "    <tr>\n",
              "      <th>3</th>\n",
              "      <td>5-я волна</td>\n",
              "      <td>1301</td>\n",
              "      <td>Рик Янси</td>\n",
              "      <td>5-я волна</td>\n",
              "      <td>15808</td>\n",
              "      <td>2016.0</td>\n",
              "    </tr>\n",
              "    <tr>\n",
              "      <th>4</th>\n",
              "      <td>9 жизней</td>\n",
              "      <td>33588</td>\n",
              "      <td>Олег Трегубов</td>\n",
              "      <td>9 жизней</td>\n",
              "      <td>4434</td>\n",
              "      <td>2018.0</td>\n",
              "    </tr>\n",
              "    <tr>\n",
              "      <th>...</th>\n",
              "      <td>...</td>\n",
              "      <td>...</td>\n",
              "      <td>...</td>\n",
              "      <td>...</td>\n",
              "      <td>...</td>\n",
              "      <td>...</td>\n",
              "    </tr>\n",
              "    <tr>\n",
              "      <th>702</th>\n",
              "      <td>Мэри Поппинс</td>\n",
              "      <td>34878</td>\n",
              "      <td>Памела Трэверс</td>\n",
              "      <td>Мэри Поппинс, до свидания</td>\n",
              "      <td>15212</td>\n",
              "      <td>1983.0</td>\n",
              "    </tr>\n",
              "    <tr>\n",
              "      <th>703</th>\n",
              "      <td>Мэри Поппинс и дом по соседству</td>\n",
              "      <td>7931</td>\n",
              "      <td>Памела Трэверс</td>\n",
              "      <td>Мэри Поппинс, до свидания</td>\n",
              "      <td>15212</td>\n",
              "      <td>1983.0</td>\n",
              "    </tr>\n",
              "    <tr>\n",
              "      <th>704</th>\n",
              "      <td>Отцы и дети. Ася. Повести. Рассказы</td>\n",
              "      <td>53434</td>\n",
              "      <td>Иван Тургенев</td>\n",
              "      <td>Отцы и дети</td>\n",
              "      <td>20356</td>\n",
              "      <td>1959.0</td>\n",
              "    </tr>\n",
              "    <tr>\n",
              "      <th>705</th>\n",
              "      <td>Питер Пэн</td>\n",
              "      <td>4059</td>\n",
              "      <td>Джеймс Барри</td>\n",
              "      <td>Питер Пэн: Возвращение в Нетландию</td>\n",
              "      <td>17647</td>\n",
              "      <td>2002.0</td>\n",
              "    </tr>\n",
              "    <tr>\n",
              "      <th>706</th>\n",
              "      <td>Прости за любовь</td>\n",
              "      <td>52852</td>\n",
              "      <td>Федерико Моччиа</td>\n",
              "      <td>Любовь</td>\n",
              "      <td>7528</td>\n",
              "      <td>2015.0</td>\n",
              "    </tr>\n",
              "  </tbody>\n",
              "</table>\n",
              "<p>3505 rows × 6 columns</p>\n",
              "</div>\n",
              "      <button class=\"colab-df-convert\" onclick=\"convertToInteractive('df-8103b057-ffa0-46f0-a64e-df90daa90a25')\"\n",
              "              title=\"Convert this dataframe to an interactive table.\"\n",
              "              style=\"display:none;\">\n",
              "        \n",
              "  <svg xmlns=\"http://www.w3.org/2000/svg\" height=\"24px\"viewBox=\"0 0 24 24\"\n",
              "       width=\"24px\">\n",
              "    <path d=\"M0 0h24v24H0V0z\" fill=\"none\"/>\n",
              "    <path d=\"M18.56 5.44l.94 2.06.94-2.06 2.06-.94-2.06-.94-.94-2.06-.94 2.06-2.06.94zm-11 1L8.5 8.5l.94-2.06 2.06-.94-2.06-.94L8.5 2.5l-.94 2.06-2.06.94zm10 10l.94 2.06.94-2.06 2.06-.94-2.06-.94-.94-2.06-.94 2.06-2.06.94z\"/><path d=\"M17.41 7.96l-1.37-1.37c-.4-.4-.92-.59-1.43-.59-.52 0-1.04.2-1.43.59L10.3 9.45l-7.72 7.72c-.78.78-.78 2.05 0 2.83L4 21.41c.39.39.9.59 1.41.59.51 0 1.02-.2 1.41-.59l7.78-7.78 2.81-2.81c.8-.78.8-2.07 0-2.86zM5.41 20L4 18.59l7.72-7.72 1.47 1.35L5.41 20z\"/>\n",
              "  </svg>\n",
              "      </button>\n",
              "      \n",
              "  <style>\n",
              "    .colab-df-container {\n",
              "      display:flex;\n",
              "      flex-wrap:wrap;\n",
              "      gap: 12px;\n",
              "    }\n",
              "\n",
              "    .colab-df-convert {\n",
              "      background-color: #E8F0FE;\n",
              "      border: none;\n",
              "      border-radius: 50%;\n",
              "      cursor: pointer;\n",
              "      display: none;\n",
              "      fill: #1967D2;\n",
              "      height: 32px;\n",
              "      padding: 0 0 0 0;\n",
              "      width: 32px;\n",
              "    }\n",
              "\n",
              "    .colab-df-convert:hover {\n",
              "      background-color: #E2EBFA;\n",
              "      box-shadow: 0px 1px 2px rgba(60, 64, 67, 0.3), 0px 1px 3px 1px rgba(60, 64, 67, 0.15);\n",
              "      fill: #174EA6;\n",
              "    }\n",
              "\n",
              "    [theme=dark] .colab-df-convert {\n",
              "      background-color: #3B4455;\n",
              "      fill: #D2E3FC;\n",
              "    }\n",
              "\n",
              "    [theme=dark] .colab-df-convert:hover {\n",
              "      background-color: #434B5C;\n",
              "      box-shadow: 0px 1px 3px 1px rgba(0, 0, 0, 0.15);\n",
              "      filter: drop-shadow(0px 1px 2px rgba(0, 0, 0, 0.3));\n",
              "      fill: #FFFFFF;\n",
              "    }\n",
              "  </style>\n",
              "\n",
              "      <script>\n",
              "        const buttonEl =\n",
              "          document.querySelector('#df-8103b057-ffa0-46f0-a64e-df90daa90a25 button.colab-df-convert');\n",
              "        buttonEl.style.display =\n",
              "          google.colab.kernel.accessAllowed ? 'block' : 'none';\n",
              "\n",
              "        async function convertToInteractive(key) {\n",
              "          const element = document.querySelector('#df-8103b057-ffa0-46f0-a64e-df90daa90a25');\n",
              "          const dataTable =\n",
              "            await google.colab.kernel.invokeFunction('convertToInteractive',\n",
              "                                                     [key], {});\n",
              "          if (!dataTable) return;\n",
              "\n",
              "          const docLinkHtml = 'Like what you see? Visit the ' +\n",
              "            '<a target=\"_blank\" href=https://colab.research.google.com/notebooks/data_table.ipynb>data table notebook</a>'\n",
              "            + ' to learn more about interactive tables.';\n",
              "          element.innerHTML = '';\n",
              "          dataTable['output_type'] = 'display_data';\n",
              "          await google.colab.output.renderOutput(dataTable, element);\n",
              "          const docLink = document.createElement('div');\n",
              "          docLink.innerHTML = docLinkHtml;\n",
              "          element.appendChild(docLink);\n",
              "        }\n",
              "      </script>\n",
              "    </div>\n",
              "  </div>\n",
              "  "
            ]
          },
          "metadata": {},
          "execution_count": 9
        }
      ]
    },
    {
      "cell_type": "code",
      "source": [
        "# нужно приджойнить к книгам из файла Эмиля айдиншники второго файла эмиля"
      ],
      "metadata": {
        "id": "lsoV3AXplNgL"
      },
      "execution_count": null,
      "outputs": []
    },
    {
      "cell_type": "code",
      "source": [
        "matching.to_csv('film_adaptations.csv', index=False)"
      ],
      "metadata": {
        "id": "vNrLpaL3lNiS"
      },
      "execution_count": 210,
      "outputs": []
    },
    {
      "cell_type": "code",
      "source": [],
      "metadata": {
        "id": "Yu8adlrFlNmM"
      },
      "execution_count": null,
      "outputs": []
    },
    {
      "cell_type": "code",
      "source": [
        "matching = matching.rename({'id_book': 'book_id', 'id_film': 'film_id'}, axis=1)"
      ],
      "metadata": {
        "id": "d4cFrE-IlNog"
      },
      "execution_count": 13,
      "outputs": []
    },
    {
      "cell_type": "code",
      "source": [],
      "metadata": {
        "id": "WzgOuud-lNq7"
      },
      "execution_count": null,
      "outputs": []
    },
    {
      "cell_type": "code",
      "source": [
        "from typing import Dict, List\n",
        "\n",
        "def metric_film_adaptations(\n",
        "    recommendations: pd.DataFrame,\n",
        "    matching: pd.DataFrame\n",
        ") -> float:\n",
        "    \"\"\"\n",
        "    This metric is calculated based on movie recommendations based on books.\n",
        "    We want to know if we have a movie adaptation of the book in our recommendation.\n",
        "\n",
        "    How to calculate:\n",
        "      If there is a film adaptation of the book, we put a match, otherwise there \n",
        "      is no match. If there aren't any film adaptations we add 0.5 to result.\n",
        "      Next, we average the result\n",
        "\n",
        "    Explanation of the metric:\n",
        "      This metric like a roc_auc. If metric > 0.5, it is good, otherwise it is bad XD\n",
        "\n",
        "    Input:\n",
        "      recommendations: Dataframe with book id as a key and movie ids as value\n",
        "      matching: Dataframe that contains a book id and a movie id.\n",
        "                Has to have 'id_book' and 'id_film' columns\n",
        "\n",
        "    Return:\n",
        "      metric value\n",
        "    \"\"\"\n",
        "\n",
        "    assert 'book_id' in set(recommendations.columns) and \\\n",
        "      'film_id' in set(recommendations.columns) and \\\n",
        "      'book_id' in set(matching.columns) and \\\n",
        "      'film_id' in set(matching.columns), \\\n",
        "      \"matching doesn't contain right columns, please rename them to id_film and id_book\"\n",
        "    book_ids = list(recommendations.book_id.unique())\n",
        "    result = 0\n",
        "\n",
        "    for book_id in book_ids:\n",
        "        film_recs = recommendations[recommendations.book_id == book_id].film_id.tolist()\n",
        "        film_adaptations = matching[matching.book_id == book_id].film_id.tolist()\n",
        "        if film_adaptations != []:\n",
        "            if set(film_adaptations).intersection(set(film_recs)) != set():\n",
        "                result += 1\n",
        "            else:\n",
        "                result += 0\n",
        "        else:\n",
        "            result += 0.5\n",
        "\n",
        "    return round(result / len(book_ids), 4)\n",
        "\n"
      ],
      "metadata": {
        "id": "3qKdvnYRDmEP"
      },
      "execution_count": 21,
      "outputs": []
    },
    {
      "cell_type": "code",
      "source": [
        "metric_film_adaptations(matching, matching)"
      ],
      "metadata": {
        "colab": {
          "base_uri": "https://localhost:8080/"
        },
        "id": "n5DmFP1LG77A",
        "outputId": "53d080a5-4c10-412d-9c42-c39377df4605"
      },
      "execution_count": 22,
      "outputs": [
        {
          "output_type": "execute_result",
          "data": {
            "text/plain": [
              "1.0"
            ]
          },
          "metadata": {},
          "execution_count": 22
        }
      ]
    },
    {
      "cell_type": "code",
      "source": [
        "matching.book_id.unique()"
      ],
      "metadata": {
        "colab": {
          "base_uri": "https://localhost:8080/"
        },
        "id": "6-IgWhzZdHJH",
        "outputId": "2e920d2a-53d4-48c4-f775-133542a1dd6e"
      },
      "execution_count": 16,
      "outputs": [
        {
          "output_type": "execute_result",
          "data": {
            "text/plain": [
              "array([ 7123, 51824,  1301, ...,  7931, 53434, 52852])"
            ]
          },
          "metadata": {},
          "execution_count": 16
        }
      ]
    },
    {
      "cell_type": "code",
      "source": [],
      "metadata": {
        "colab": {
          "base_uri": "https://localhost:8080/"
        },
        "id": "7VWHn5KwoCl-",
        "outputId": "e1301504-9d26-42b0-fc0d-61bc14db3b24"
      },
      "execution_count": 20,
      "outputs": [
        {
          "output_type": "execute_result",
          "data": {
            "text/plain": [
              "[1225, 17791]"
            ]
          },
          "metadata": {},
          "execution_count": 20
        }
      ]
    },
    {
      "cell_type": "code",
      "source": [],
      "metadata": {
        "id": "IV2k7GIPoGer"
      },
      "execution_count": null,
      "outputs": []
    }
  ]
}